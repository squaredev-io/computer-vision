{
  "cells": [
    {
      "cell_type": "markdown",
      "metadata": {
        "id": "6xMgcd12j_SE"
      },
      "source": [
        "LabelMe is a library used for the annotation of the data. It is higly reccomended to install it in your local machine."
      ]
    },
    {
      "cell_type": "code",
      "execution_count": null,
      "metadata": {
        "id": "wUu0Yl7pj6tZ"
      },
      "outputs": [],
      "source": [
        "conda install pyqt\n",
        "conda install matplotlib\n",
        "pip install labelme\n",
        "\n",
        "# if `pip install labelme` throws an error like\n",
        "# (no such file), '/usr/local/lib/libffi.7.dylib'\n",
        "# you need to manually copy the appropriate file to said path\n",
        "# cp libffi.8.dylib /usr/local/lib/libffi.7.dylib\n",
        "# or if the path does not exist install\n",
        "# brew install libffi"
      ]
    },
    {
      "cell_type": "code",
      "execution_count": null,
      "metadata": {
        "id": "F4YaPp00kLMN"
      },
      "outputs": [],
      "source": [
        "#Run in your terminal \n",
        "labelme"
      ]
    },
    {
      "cell_type": "markdown",
      "metadata": {
        "id": "llK0OlBrkjTX"
      },
      "source": [
        "For more instructions on how to use the app, follow the link: https://datagen.tech/guides/image-annotation/labelme/"
      ]
    }
  ],
  "metadata": {
    "colab": {
      "collapsed_sections": [],
      "provenance": []
    },
    "kernelspec": {
      "display_name": "Python 3.8.6 ('wysely-api-cAnZyTf--py3.8')",
      "language": "python",
      "name": "python3"
    },
    "language_info": {
      "name": "python",
      "version": "3.8.6"
    },
    "vscode": {
      "interpreter": {
        "hash": "77325d474960980fbd29ea8016bf19454897cee21e93efdca60866da6cc6e30a"
      }
    }
  },
  "nbformat": 4,
  "nbformat_minor": 0
}
