{
  "nbformat": 4,
  "nbformat_minor": 0,
  "metadata": {
    "colab": {
      "provenance": [],
      "collapsed_sections": []
    },
    "kernelspec": {
      "name": "python3",
      "display_name": "Python 3"
    },
    "language_info": {
      "name": "python"
    }
  },
  "cells": [
    {
      "cell_type": "markdown",
      "source": [
        "LabelMe is a library used for the annotation of the data. It is higly reccomended to install it in your local machine."
      ],
      "metadata": {
        "id": "6xMgcd12j_SE"
      }
    },
    {
      "cell_type": "code",
      "execution_count": null,
      "metadata": {
        "id": "wUu0Yl7pj6tZ"
      },
      "outputs": [],
      "source": [
        "conda install pyqt\n",
        "conda install matplotlib\n",
        "pip install labelme\n",
        "\n",
        "# if `pip install labelme` throws an error like\n",
        "# (no such file), '/usr/local/lib/libffi.7.dylib'\n",
        "# you need to manually copy the appropriate file to said path\n",
        "# cp libffi.8.dylib /usr/local/lib/libffi.7.dylib\n",
        "# or if the path does not exist install\n",
        "# brew install libffi"
      ]
    },
    {
      "cell_type": "code",
      "source": [
        "#Run in your terminal \n",
        "labelme"
      ],
      "metadata": {
        "id": "F4YaPp00kLMN"
      },
      "execution_count": null,
      "outputs": []
    },
    {
      "cell_type": "markdown",
      "source": [
        "For more instructions on how to use the app, follow the link: https://datagen.tech/guides/image-annotation/labelme/"
      ],
      "metadata": {
        "id": "llK0OlBrkjTX"
      }
    }
  ]
}