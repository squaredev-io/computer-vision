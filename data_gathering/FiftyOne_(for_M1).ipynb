{
  "cells": [
    {
      "cell_type": "markdown",
      "metadata": {
        "id": "ZQnjwX2fhdbK"
      },
      "source": [
        "FiftyOne supercharges your machine learning workflows by enabling you to visualize datasets and interpret models faster and more effectively."
      ]
    },
    {
      "cell_type": "code",
      "execution_count": null,
      "metadata": {
        "id": "6tgItlN2hYd-"
      },
      "outputs": [],
      "source": [
        "# Step 1\n",
        "pip install fiftyone"
      ]
    },
    {
      "cell_type": "markdown",
      "metadata": {
        "id": "mX4KVaO3hma4"
      },
      "source": [
        "Step 2\n",
        "\n",
        "Download MongoDB Compass."
      ]
    },
    {
      "cell_type": "markdown",
      "metadata": {
        "id": "_q9Rx-Fah2JU"
      },
      "source": [
        "Step 3\n",
        "\n",
        "Open MongDB Compass and take your URI."
      ]
    },
    {
      "cell_type": "code",
      "execution_count": null,
      "metadata": {
        "id": "EuKwek20hwsy"
      },
      "outputs": [],
      "source": [
        "# Step 4: Connect again to your MongoDDB and execute the following command to your IDE terminal\n",
        "export FIFTYONE_DATABASE_URI={your URI} (e.g. mongodb://localhost:34017)"
      ]
    },
    {
      "cell_type": "code",
      "execution_count": null,
      "metadata": {
        "id": "wXaqW2wRiTzg"
      },
      "outputs": [],
      "source": [
        "# Step 5: Now you are ready to download and inspect data.\n",
        "\n",
        "import fiftyone as fo\n",
        "import fiftyone.zoo as foz\n",
        "\n",
        "#Here you can choose your dataset, the spit, the labels etc. For more \n",
        "#information please visit fiftyone documentation here\n",
        "\n",
        "dataset = foz.load_zoo_dataset(\n",
        "              \"open-images-v6\",\n",
        "              split=\"validation\",\n",
        "              label_types=[\"detections\"],\n",
        "              classes=[\"Cat\"],\n",
        "              max_samples=2,\n",
        "          )\n",
        "\n",
        "#Here is a way on how to actually save the data in a specific folder\n",
        "#By adjusting the dataset_type you can download data in specific formats\n",
        "#ready for models implementation. \n",
        "\n",
        "\n",
        "export_dir = \"{path}\"\n",
        "dataset_type=fo.types.FiftyOneImageDetectionDataset\n",
        "dataset.export(export_dir=export_dir,dataset_type=dataset_type)\n",
        "\n",
        "\n",
        "\n",
        "#Here is a way to open a browser page and to inspect the data\n",
        "#in real-time\n",
        "\n",
        "\n",
        "session = fo.launch_app(dataset, port=5151)\n",
        "session.wait()"
      ]
    }
  ],
  "metadata": {
    "colab": {
      "collapsed_sections": [],
      "provenance": []
    },
    "kernelspec": {
      "display_name": "Python 3.8.9 64-bit",
      "language": "python",
      "name": "python3"
    },
    "language_info": {
      "name": "python",
      "version": "3.8.9"
    },
    "vscode": {
      "interpreter": {
        "hash": "5edc29c2ed010d6458d71a83433b383a96a8cbd3efe8531bc90c4b8a5b8bcec9"
      }
    }
  },
  "nbformat": 4,
  "nbformat_minor": 0
}
