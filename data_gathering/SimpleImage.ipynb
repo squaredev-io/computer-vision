{
  "cells": [
    {
      "cell_type": "markdown",
      "metadata": {
        "id": "mS9Oqo-UjDnY"
      },
      "source": [
        "SimpleImage is a library used for downloading images based on keywords mostly from Google. "
      ]
    },
    {
      "cell_type": "code",
      "execution_count": null,
      "metadata": {
        "id": "NntU-vT1jAUl"
      },
      "outputs": [],
      "source": [
        "pip install --upgrade simple_image_download"
      ]
    },
    {
      "cell_type": "code",
      "execution_count": null,
      "metadata": {
        "id": "EEdAECmIjW-y"
      },
      "outputs": [],
      "source": [
        "from simple_image_download import simple_image_download as sp\n",
        "response = sp.simple_image_download()\n",
        "#Set the directory in which the images will be downloaded.\n",
        "#After the completion you will find there a folder with the name \"simple_images\"\n",
        "response.directory=\"set_your_directory/\"\n",
        "#Set the keyword(s) and the number of images. The machine will download the limit number of images per keyword.\n",
        "response.download(keywords=\"keyword1,keyword2,....\",limit=1000)"
      ]
    }
  ],
  "metadata": {
    "colab": {
      "collapsed_sections": [],
      "provenance": []
    },
    "kernelspec": {
      "display_name": "Python 3.8.9 64-bit",
      "language": "python",
      "name": "python3"
    },
    "language_info": {
      "name": "python",
      "version": "3.8.9"
    },
    "vscode": {
      "interpreter": {
        "hash": "5edc29c2ed010d6458d71a83433b383a96a8cbd3efe8531bc90c4b8a5b8bcec9"
      }
    }
  },
  "nbformat": 4,
  "nbformat_minor": 0
}
