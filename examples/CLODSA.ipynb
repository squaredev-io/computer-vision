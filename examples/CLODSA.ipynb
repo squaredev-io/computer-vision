{
  "cells": [
    {
      "cell_type": "markdown",
      "metadata": {
        "id": "GxQekSqTht6I"
      },
      "source": [
        "# Augmenting a dataset for instance segmentation\n",
        "\n",
        "In this notebook, we illustrate how CLODSA can be employed to augment a dataset of images devoted to instance segmentation that was annotated using the [COCO format](http://cocodataset.org/#home). "
      ]
    },
    {
      "cell_type": "markdown",
      "metadata": {
        "id": "kAy0Hvnbht6i"
      },
      "source": [
        "Ensure that there's an input folder and that it contains the following:\n",
        "- the images we want to augment (jpeg/jpg, png and webp only)\n",
        "- a single json file in COCO format that contains all annotations for the added images, and its name is **annotations.json**"
      ]
    },
    {
      "cell_type": "code",
      "execution_count": null,
      "metadata": {
        "id": "XEJ0pRfRht6k"
      },
      "outputs": [],
      "source": [
        "!ls input | wc -l"
      ]
    },
    {
      "cell_type": "markdown",
      "metadata": {
        "id": "Bu3B12UeBhz7"
      },
      "source": [
        "We create the output folder."
      ]
    },
    {
      "cell_type": "code",
      "execution_count": null,
      "metadata": {
        "id": "qGMfgPAtBhz-"
      },
      "outputs": [],
      "source": [
        "!mkdir output"
      ]
    },
    {
      "cell_type": "markdown",
      "metadata": {
        "id": "LaBilQHUht6u"
      },
      "source": [
        "## Augmentation techniques\n",
        "\n",
        "For this example, we consider three augmentation techniques. \n",
        "\n",
        "The augmentation techniques applied in this example are:\n",
        "- Rotation\n",
        "- Flip\n",
        "- Dropout\n",
        "- Elastic Deformation\n",
        "- Equalize Histogram\n",
        "- Gamma Correction\n",
        "- Gaussian Blurring\n",
        "- Gaussian Noise\n",
        "- Median Blurring\n",
        "- Raise Blue Channel\n",
        "- Raise Green Channel\n",
        "- Raise Hue\n",
        "- Salt and Pepper\n"
      ]
    },
    {
      "cell_type": "markdown",
      "metadata": {
        "id": "wCILufF2ht6y"
      },
      "source": [
        "## Installing the necessary libraries\n",
        "\n",
        "In case that CLODSA is not installed in your system, the first task consists in installing it using ``pip``."
      ]
    },
    {
      "cell_type": "code",
      "execution_count": null,
      "metadata": {
        "id": "FWTm8dG3ht6y"
      },
      "outputs": [],
      "source": [
        "!pip install clodsa"
      ]
    },
    {
      "cell_type": "markdown",
      "metadata": {
        "id": "I1q3x_OFht66"
      },
      "source": [
        "## Loading the necessary libraries\n",
        "\n",
        "The first step in the pipeline consists in loading the necessary libraries to apply the data augmentation techniques in CLODSA."
      ]
    },
    {
      "cell_type": "code",
      "execution_count": null,
      "metadata": {
        "id": "JqWBswFyht68"
      },
      "outputs": [],
      "source": [
        "from matplotlib import pyplot as plt\n",
        "from clodsa.augmentors.augmentorFactory import createAugmentor\n",
        "from clodsa.transformers.transformerFactory import transformerGenerator\n",
        "from clodsa.techniques.techniqueFactory import createTechnique\n",
        "import cv2\n",
        "%matplotlib inline"
      ]
    },
    {
      "cell_type": "markdown",
      "metadata": {
        "id": "CBP59dqqht7E"
      },
      "source": [
        "## Creating the augmentor object\n",
        "\n",
        "As explained in the documentation of CLODSA, we need to specify some parameters for the augmentation process, and use them to create an augmentor object.  \n",
        "\n",
        "_The kind of problem_. In this case, we are working in an instance segmentation problem."
      ]
    },
    {
      "cell_type": "code",
      "execution_count": null,
      "metadata": {
        "id": "zQ5q8WVnht7G"
      },
      "outputs": [],
      "source": [
        "PROBLEM = \"instance_segmentation\""
      ]
    },
    {
      "cell_type": "markdown",
      "metadata": {
        "id": "D46gdf-4ht7K"
      },
      "source": [
        "_The annotation mode_. The annotation is provided using the coco format in a file called annotations.json. "
      ]
    },
    {
      "cell_type": "code",
      "execution_count": null,
      "metadata": {
        "id": "rrlRg-FVht7M"
      },
      "outputs": [],
      "source": [
        "ANNOTATION_MODE = \"coco\""
      ]
    },
    {
      "cell_type": "markdown",
      "metadata": {
        "id": "cn-uF33Oht7S"
      },
      "source": [
        "_The input path_. The input path containing the images. "
      ]
    },
    {
      "cell_type": "code",
      "execution_count": null,
      "metadata": {
        "id": "78jPXCj2ht7U"
      },
      "outputs": [],
      "source": [
        "INPUT_PATH = \"input\""
      ]
    },
    {
      "cell_type": "markdown",
      "metadata": {
        "id": "j9kGGhs4ht7a"
      },
      "source": [
        "_The generation mode_. In this case, linear, that is, all the augmentation techniques are applied to all the images of the original dataset. "
      ]
    },
    {
      "cell_type": "code",
      "execution_count": null,
      "metadata": {
        "id": "KCweCzLeht7c"
      },
      "outputs": [],
      "source": [
        "GENERATION_MODE = \"linear\""
      ]
    },
    {
      "cell_type": "markdown",
      "metadata": {
        "id": "o6WljljVht7g"
      },
      "source": [
        "_The output mode_. The generated images will be stored in a new folder called output.  "
      ]
    },
    {
      "cell_type": "code",
      "execution_count": null,
      "metadata": {
        "id": "A4uKKcJUht7i"
      },
      "outputs": [],
      "source": [
        "OUTPUT_MODE = \"coco\"\n",
        "OUTPUT_PATH= \"output/\""
      ]
    },
    {
      "cell_type": "markdown",
      "metadata": {
        "id": "9R79LEvVht7o"
      },
      "source": [
        "Using the above information, we can create our augmentor object. "
      ]
    },
    {
      "cell_type": "code",
      "execution_count": null,
      "metadata": {
        "id": "CQ9wyiQuht7q"
      },
      "outputs": [],
      "source": [
        "augmentor = createAugmentor(PROBLEM,ANNOTATION_MODE,OUTPUT_MODE,GENERATION_MODE,INPUT_PATH,{\"outputPath\":OUTPUT_PATH})"
      ]
    },
    {
      "cell_type": "markdown",
      "metadata": {
        "id": "iXOfuq90ht7w"
      },
      "source": [
        "## Adding the augmentation techniques\n",
        "\n",
        "Now, we define the techniques that will be applied in our augmentation process and add them to our augmentor object. To illustrate the transformations, we will use the following image of the dataset. \n",
        "\n"
      ]
    },
    {
      "cell_type": "markdown",
      "metadata": {
        "id": "9MsVfe3CBh1I"
      },
      "source": [
        "First of all, we must define a transformer generator."
      ]
    },
    {
      "cell_type": "code",
      "execution_count": null,
      "metadata": {
        "id": "-OSl47BDBh1K"
      },
      "outputs": [],
      "source": [
        "transformer = transformerGenerator(PROBLEM)"
      ]
    },
    {
      "cell_type": "markdown",
      "metadata": {
        "id": "n4PfSKW-ht74"
      },
      "source": [
        "_Rotation:_"
      ]
    },
    {
      "cell_type": "code",
      "execution_count": null,
      "metadata": {
        "id": "ajKE-mkDht74"
      },
      "outputs": [],
      "source": [
        "for angle in [90,180]:\n",
        "    rotate = createTechnique(\"rotate\", {\"angle\" : angle})\n",
        "    augmentor.addTransformer(transformer(rotate))"
      ]
    },
    {
      "cell_type": "markdown",
      "metadata": {
        "id": "It-_OkKfBh1e"
      },
      "source": [
        "_Flip:_"
      ]
    },
    {
      "cell_type": "code",
      "execution_count": null,
      "metadata": {
        "id": "gEYJCW0aBh1g"
      },
      "outputs": [],
      "source": [
        "flip = createTechnique(\"flip\",{\"flip\":1})\n",
        "augmentor.addTransformer(transformer(flip))"
      ]
    },
    {
      "cell_type": "markdown",
      "metadata": {
        "id": "WmsCc-A9rCEY"
      },
      "source": [
        "*Dropout:*"
      ]
    },
    {
      "cell_type": "code",
      "execution_count": null,
      "metadata": {
        "id": "2_azUZ8CrbdH"
      },
      "outputs": [],
      "source": [
        "dropout = createTechnique(\"dropout\",{\"percentage\":0.05})\n",
        "augmentor.addTransformer(transformer(dropout))"
      ]
    },
    {
      "cell_type": "markdown",
      "metadata": {
        "id": "ocxLOK1ZrtdD"
      },
      "source": [
        "*Elastic Deformation:*"
      ]
    },
    {
      "cell_type": "code",
      "execution_count": null,
      "metadata": {
        "id": "_wPpNCgyrvmL"
      },
      "outputs": [],
      "source": [
        "elastic = createTechnique(\"elastic\",{\"alpha\":5,\"sigma\":0.05})\n",
        "augmentor.addTransformer(transformer(elastic))"
      ]
    },
    {
      "cell_type": "markdown",
      "metadata": {
        "id": "q_A4hio2r0Ab"
      },
      "source": [
        "*Equalize Histogram:*"
      ]
    },
    {
      "cell_type": "code",
      "execution_count": null,
      "metadata": {
        "id": "x4AkeOJrr2Yf"
      },
      "outputs": [],
      "source": [
        "histograms = createTechnique(\"equalize_histogram\",{})\n",
        "augmentor.addTransformer(transformer(histograms))"
      ]
    },
    {
      "cell_type": "markdown",
      "metadata": {
        "id": "CCdxAqU2u6GU"
      },
      "source": [
        "*Gamma Correction:*"
      ]
    },
    {
      "cell_type": "code",
      "execution_count": null,
      "metadata": {
        "id": "F7xiTzBku9YO"
      },
      "outputs": [],
      "source": [
        "gamma = createTechnique(\"gamma\",{\"gamma\":1.5})\n",
        "augmentor.addTransformer(transformer(gamma))"
      ]
    },
    {
      "cell_type": "markdown",
      "metadata": {
        "id": "_z5WhRLtvDa6"
      },
      "source": [
        "*Gaussian Blurring:*"
      ]
    },
    {
      "cell_type": "code",
      "execution_count": null,
      "metadata": {
        "id": "S3F7zRnqvRE9"
      },
      "outputs": [],
      "source": [
        "gaussian_blurring = createTechnique(\"gaussian_blur\", {\"kernel\" : 5})\n",
        "augmentor.addTransformer(transformer(gaussian_blurring))"
      ]
    },
    {
      "cell_type": "markdown",
      "metadata": {
        "id": "dZhxCkZavegu"
      },
      "source": [
        "*Gaussian Noise:*"
      ]
    },
    {
      "cell_type": "code",
      "execution_count": null,
      "metadata": {
        "id": "JoLAgQnivgo2"
      },
      "outputs": [],
      "source": [
        "gaussian_noise = createTechnique(\"gaussian_noise\", {\"mean\" : 0,\"sigma\":10})\n",
        "augmentor.addTransformer(transformer(gaussian_noise))"
      ]
    },
    {
      "cell_type": "markdown",
      "metadata": {
        "id": "c56ECegcv4RD"
      },
      "source": [
        "*Raise Hue:*"
      ]
    },
    {
      "cell_type": "code",
      "execution_count": null,
      "metadata": {
        "id": "H4nLuik3v51b"
      },
      "outputs": [],
      "source": [
        "raise_hue = createTechnique(\"raise_hue\", {\"power\" : 0.9})\n",
        "augmentor.addTransformer(transformer(raise_hue))"
      ]
    },
    {
      "cell_type": "markdown",
      "metadata": {
        "id": "LB4SjoZbwK-P"
      },
      "source": [
        "*Salt and Pepper:*"
      ]
    },
    {
      "cell_type": "code",
      "execution_count": null,
      "metadata": {
        "id": "h_thfOxNwGBa"
      },
      "outputs": [],
      "source": [
        "salt_and_pepper = createTechnique(\"salt_and_pepper\", {\"low\" : 0,\"up\":25})\n",
        "augmentor.addTransformer(transformer(salt_and_pepper))"
      ]
    },
    {
      "cell_type": "markdown",
      "metadata": {
        "id": "WwE-qSYLht9I"
      },
      "source": [
        "## Applying the augmentation process\n",
        "\n",
        "Finally, we apply the augmentation process (this might take some time depending on the number of images of the original dataset and the number of transformations that will be applied). \n",
        "\n",
        "Warning: in case of info error, edit annotations.json and add the following:\n",
        "\n",
        "\n",
        "```\n",
        "\"info\": {\n",
        "    \"description\": \"Example Dataset\",\n",
        "    \"version\": \"0.1.0\",\n",
        "    \"year\": 2022,\n",
        "    \"contributor\": \"your name\"\n",
        "  },\n",
        "  \"licenses\": [\n",
        "    {\n",
        "      \"id\": 1,\n",
        "      \"name\": \"\",\n",
        "      \"url\": \"\"\n",
        "    }\n",
        "  ],\n",
        "```\n",
        "\n"
      ]
    },
    {
      "cell_type": "code",
      "execution_count": null,
      "metadata": {
        "id": "lbW5YVE9ht9I"
      },
      "outputs": [],
      "source": [
        "augmentor.applyAugmentation()"
      ]
    },
    {
      "cell_type": "markdown",
      "metadata": {
        "id": "brG8bP-RBh1q"
      },
      "source": [
        "We can now check the amount of files of the output folder (includes both images and the annotations.json)"
      ]
    },
    {
      "cell_type": "code",
      "execution_count": null,
      "metadata": {
        "colab": {
          "base_uri": "https://localhost:8080/"
        },
        "id": "1zdxLh12Bh1s",
        "outputId": "9be40a77-988c-44ae-a397-0e70f3db0de3"
      },
      "outputs": [
        {
          "name": "stdout",
          "output_type": "stream",
          "text": [
            "1387\n"
          ]
        }
      ],
      "source": [
        "!ls output/ | wc -l"
      ]
    },
    {
      "cell_type": "markdown",
      "metadata": {
        "id": "I7KjBPOIBh1x"
      },
      "source": [
        "Finally, we can visualize the results using some of the tools provided by [the COCO API](https://github.com/cocodataset/cocoapi)."
      ]
    },
    {
      "cell_type": "code",
      "execution_count": null,
      "metadata": {
        "id": "nF9AM8GNBh1y"
      },
      "outputs": [],
      "source": [
        "!pip install pycocotools"
      ]
    },
    {
      "cell_type": "code",
      "execution_count": null,
      "metadata": {
        "id": "LxXtLp5OBh13"
      },
      "outputs": [],
      "source": [
        "%matplotlib inline\n",
        "from pycocotools.coco import COCO\n",
        "import numpy as np\n",
        "import skimage.io as io\n",
        "import matplotlib.pyplot as plt\n",
        "import pylab"
      ]
    },
    {
      "cell_type": "code",
      "execution_count": null,
      "metadata": {
        "id": "NzbYOt2VBh17"
      },
      "outputs": [],
      "source": [
        "image_directory = 'output/'\n",
        "annotation_file = 'output/annotation.json'"
      ]
    },
    {
      "cell_type": "code",
      "execution_count": null,
      "metadata": {
        "id": "1SYTVW09Bh19"
      },
      "outputs": [],
      "source": [
        "example_coco = COCO(annotation_file)"
      ]
    },
    {
      "cell_type": "code",
      "execution_count": null,
      "metadata": {
        "id": "G5vJPcE3Bh2B"
      },
      "outputs": [],
      "source": [
        "categories = example_coco.loadCats(example_coco.getCatIds())\n",
        "category_names = [category['name'] for category in categories]\n",
        "print('Custom COCO categories: \\n{}\\n'.format(' '.join(category_names)))\n",
        "\n",
        "category_names = set([category['supercategory'] for category in categories])\n",
        "print('Custom COCO supercategories: \\n{}'.format(' '.join(category_names)))"
      ]
    },
    {
      "cell_type": "markdown",
      "metadata": {
        "id": "B4K_uXZHutvT"
      },
      "source": [
        "The following creates a zip with the contents of the output file:"
      ]
    },
    {
      "cell_type": "code",
      "execution_count": null,
      "metadata": {
        "id": "gFWtkhy3Bh2X"
      },
      "outputs": [],
      "source": [
        "!zip -r output.zip output"
      ]
    }
  ],
  "metadata": {
    "accelerator": "GPU",
    "colab": {
      "collapsed_sections": [],
      "machine_shape": "hm",
      "provenance": []
    },
    "gpuClass": "premium",
    "kernelspec": {
      "display_name": "Python 3.6.15 64-bit ('3.6.15')",
      "language": "python",
      "name": "python3"
    },
    "language_info": {
      "codemirror_mode": {
        "name": "ipython",
        "version": 3
      },
      "file_extension": ".py",
      "mimetype": "text/x-python",
      "name": "python",
      "nbconvert_exporter": "python",
      "pygments_lexer": "ipython3",
      "version": "3.6.15"
    },
    "vscode": {
      "interpreter": {
        "hash": "bf54b03663cb130a75258ffc6d3adcd76e75352cd87b6c1181ae90acf062a172"
      }
    }
  },
  "nbformat": 4,
  "nbformat_minor": 0
}
