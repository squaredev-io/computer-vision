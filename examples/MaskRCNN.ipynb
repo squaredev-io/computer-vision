{
  "cells": [
    {
      "cell_type": "markdown",
      "metadata": {
        "id": "-y5DC3Xa32o2"
      },
      "source": [
        "Steps to implement Mask R-CNN"
      ]
    },
    {
      "cell_type": "markdown",
      "metadata": {
        "id": "Pc6ivapt34OK"
      },
      "source": [
        "1-Clone reposotory git clone https://github.com/matterport/Mask_RCNN.git\n"
      ]
    },
    {
      "cell_type": "markdown",
      "metadata": {
        "id": "pmpcnViYFokJ"
      },
      "source": [
        "https://github.com/matterport/Mask_RCNN/issues/526; \n",
        "https://github.com/matterport/Mask_RCNN/issues/1797\n",
        "Issues Solved!"
      ]
    },
    {
      "cell_type": "markdown",
      "metadata": {
        "id": "p1KF0U0634Zu"
      },
      "source": [
        "2-Install Dependencies"
      ]
    },
    {
      "cell_type": "code",
      "execution_count": null,
      "metadata": {
        "colab": {
          "base_uri": "https://localhost:8080/"
        },
        "id": "pvGrIDAF8GgI",
        "outputId": "4d0c6ed9-4314-4294-af21-6b05ba7bcd9e"
      },
      "outputs": [
        {
          "name": "stdout",
          "output_type": "stream",
          "text": [
            "Cloning into 'Mask_RCNN'...\n",
            "remote: Enumerating objects: 956, done.\u001b[K\n",
            "remote: Total 956 (delta 0), reused 0 (delta 0), pack-reused 956\u001b[K\n",
            "Receiving objects: 100% (956/956), 137.67 MiB | 16.82 MiB/s, done.\n",
            "Resolving deltas: 100% (558/558), done.\n"
          ]
        }
      ],
      "source": [
        "!git clone https://github.com/matterport/Mask_RCNN.git"
      ]
    },
    {
      "cell_type": "code",
      "execution_count": null,
      "metadata": {
        "colab": {
          "base_uri": "https://localhost:8080/"
        },
        "id": "4OlJ47fk0o83",
        "outputId": "94bf454f-7d88-4ac8-dce1-689dd1fb71e6"
      },
      "outputs": [],
      "source": [
        "#!pip install imgaug\n",
        "#!pip install Cython\n",
        "!pip install pycocotools\n",
        "#!pip install kaggle\n",
        "!pip install mrcnn\n",
        "#!pip install Pillow==5.3.0\n",
        "#!pip install scikit-image\n",
        "#!pip install tensorflow==1.14.0\n",
        "!pip install tensorflow==1.13.1\n",
        "!pip install keras==2.2.0\n",
        "#!pip install pycocotools\n",
        "print(\"Installed packages\")\n",
        "\n"
      ]
    },
    {
      "cell_type": "markdown",
      "metadata": {
        "id": "frW5S0UH4OJ0"
      },
      "source": [
        "3-Test Installed Dependencies\n"
      ]
    },
    {
      "cell_type": "code",
      "execution_count": null,
      "metadata": {
        "colab": {
          "base_uri": "https://localhost:8080/"
        },
        "id": "FbT-7RhI0Ywf",
        "outputId": "c050c511-7f44-4c39-f528-ef7309344627"
      },
      "outputs": [],
      "source": [
        "import numpy\n",
        "import scipy\n",
        "import PIL\n",
        "import tensorflow\n",
        "import skimage\n",
        "import h5py\n",
        "import IPython\n",
        "import cv2\n",
        "import keras\n",
        "import scipy\n",
        "import matplotlib\n",
        "import cython\n",
        "\n",
        "print(\"All dependencies are installed\")"
      ]
    },
    {
      "cell_type": "code",
      "execution_count": null,
      "metadata": {
        "id": "OlqjmowtJGwU"
      },
      "outputs": [],
      "source": [
        "import os\n",
        "os.chdir('/content/Mask_RCNN/samples')"
      ]
    },
    {
      "cell_type": "code",
      "execution_count": null,
      "metadata": {
        "id": "StXX9MFsSBqk"
      },
      "outputs": [],
      "source": [
        "#import os\n",
        "import sys\n",
        "import random\n",
        "import math\n",
        "import numpy as np\n",
        "import skimage.io\n",
        "import matplotlib\n",
        "import matplotlib.pyplot as plt\n",
        "from pycocotools.coco import COCO\n",
        "from mrcnn.config import Config\n",
        "\n",
        "#import tensorflow.compat.v1 as tf\n",
        "#tf.disable_v2_behavior()\n",
        "\n",
        "# Root directory of the project\n",
        "ROOT_DIR = os.path.abspath(\"../\")\n",
        "\n",
        "\n",
        "import warnings\n",
        "warnings.filterwarnings(\"ignore\")\n",
        "\n",
        " #Import Mask RCNN\n",
        "sys.path.append(ROOT_DIR)  # To find local version of the library\n",
        "from mrcnn import utils\n",
        "import mrcnn.model as modellib\n",
        "from mrcnn import visualize\n",
        " #Import COCO config\n",
        "sys.path.append(os.path.join(ROOT_DIR, \"samples/coco/\"))  # To find local version\n",
        "import coco\n",
        "\n",
        "\n",
        "\n",
        "%matplotlib inline"
      ]
    },
    {
      "cell_type": "code",
      "execution_count": null,
      "metadata": {
        "id": "L-o73_PbqzDP"
      },
      "outputs": [],
      "source": [
        "# Directory to save logs and trained model\n",
        "MODEL_DIR = os.path.join(ROOT_DIR, \"logs\")\n",
        "\n",
        "# Local path to trained weights file\n",
        "COCO_MODEL_PATH = os.path.join('', \"mask_rcnn_coco.h5\")\n",
        "\n",
        "# Download COCO trained weights from Releases if needed\n",
        "if not os.path.exists(COCO_MODEL_PATH):\n",
        "    utils.download_trained_weights(COCO_MODEL_PATH)\n",
        "\n",
        "# Directory of images to run detection on\n",
        "IMAGE_DIR = os.path.join(ROOT_DIR, \"images\")"
      ]
    },
    {
      "cell_type": "code",
      "execution_count": null,
      "metadata": {
        "colab": {
          "base_uri": "https://localhost:8080/"
        },
        "id": "LAGw0ao_rFpE",
        "outputId": "27d1703d-2c14-4e63-c52c-e21f1f89605c"
      },
      "outputs": [],
      "source": [
        "class InferenceConfig(coco.CocoConfig):\n",
        "  #class InferenceConfig(coco.CocoConfig):\n",
        "    # Set batch size to 1 since we'll be running inference on\n",
        "    # one image at a time. Batch size = GPU_COUNT * IMAGES_PER_GPU\n",
        "    GPU_COUNT = 1\n",
        "    IMAGES_PER_GPU = 1\n",
        "\n",
        "config = InferenceConfig()\n",
        "config.display()"
      ]
    },
    {
      "cell_type": "code",
      "execution_count": null,
      "metadata": {
        "colab": {
          "base_uri": "https://localhost:8080/"
        },
        "id": "fE_uXWEew-H3",
        "outputId": "c4bfc0b4-920a-4525-bc9a-e8adfb71ef50"
      },
      "outputs": [],
      "source": [
        "model = modellib.MaskRCNN(mode=\"inference\", config=config, model_dir=ROOT_DIR)\n",
        "# Load weights trained on MS-COCO\n"
      ]
    },
    {
      "cell_type": "code",
      "execution_count": null,
      "metadata": {
        "colab": {
          "base_uri": "https://localhost:8080/",
          "height": 538
        },
        "id": "_Q9HcR75obUc",
        "outputId": "a5bb973a-67af-40c0-b5c1-553d5b29a5ad"
      },
      "outputs": [],
      "source": [
        "pip install h5py==2.10.0 --force-reinstall"
      ]
    },
    {
      "cell_type": "code",
      "execution_count": null,
      "metadata": {
        "id": "NqHKV0erOfEm"
      },
      "outputs": [],
      "source": [
        "#correct the decode in row 954 of saving.py\n",
        "from keras.engine import saving\n",
        "model.load_weights(COCO_MODEL_PATH, by_name=True)"
      ]
    },
    {
      "cell_type": "code",
      "execution_count": null,
      "metadata": {
        "id": "rlOPS2O_Ocbq"
      },
      "outputs": [],
      "source": [
        "# COCO Class names\n",
        "# Index of the class in the list is its ID. For example, to get ID of\n",
        "# the teddy bear class, use: class_names.index('teddy bear')\n",
        "class_names = ['BG', 'person', 'bicycle', 'car', 'motorcycle', 'airplane',\n",
        "               'bus', 'train', 'truck', 'boat', 'traffic light',\n",
        "               'fire hydrant', 'stop sign', 'parking meter', 'bench', 'bird',\n",
        "               'cat', 'dog', 'horse', 'sheep', 'cow', 'elephant', 'bear',\n",
        "               'zebra', 'giraffe', 'backpack', 'umbrella', 'handbag', 'tie',\n",
        "               'suitcase', 'frisbee', 'skis', 'snowboard', 'sports ball',\n",
        "               'kite', 'baseball bat', 'baseball glove', 'skateboard',\n",
        "               'surfboard', 'tennis racket', 'bottle', 'wine glass', 'cup',\n",
        "               'fork', 'knife', 'spoon', 'bowl', 'banana', 'apple',\n",
        "               'sandwich', 'orange', 'broccoli', 'carrot', 'hot dog', 'pizza',\n",
        "               'donut', 'cake', 'chair', 'couch', 'potted plant', 'bed',\n",
        "               'dining table', 'toilet', 'tv', 'laptop', 'mouse', 'remote',\n",
        "               'keyboard', 'cell phone', 'microwave', 'oven', 'toaster',\n",
        "               'sink', 'refrigerator', 'book', 'clock', 'vase', 'scissors',\n",
        "               'teddy bear', 'hair drier', 'toothbrush']"
      ]
    },
    {
      "cell_type": "code",
      "execution_count": null,
      "metadata": {
        "colab": {
          "base_uri": "https://localhost:8080/",
          "height": 988
        },
        "id": "Z7qiZx_oRiu6",
        "outputId": "ab8d1289-7e89-46dc-85dc-5d1d3f25ff3b"
      },
      "outputs": [],
      "source": [
        "# Load a random image from the images folder\n",
        "file_names = next(os.walk(IMAGE_DIR))[2]\n",
        "#image = skimage.io.imread(os.path.join(IMAGE_DIR, random.choice(file_names)))\n",
        "image=skimage.io.imread(\"your_image.jpg\")\n",
        "\n",
        "# Run detection\n",
        "results = model.detect([image], verbose=1)\n",
        "\n",
        "# Visualize results\n",
        "r = results[0]\n",
        "visualize.display_instances(image, r['rois'], r['masks'], r['class_ids'], \n",
        "                            class_names, r['scores'])"
      ]
    }
  ],
  "metadata": {
    "accelerator": "GPU",
    "colab": {
      "collapsed_sections": [],
      "machine_shape": "hm",
      "provenance": []
    },
    "kernelspec": {
      "display_name": "Python 3.8.9 64-bit",
      "language": "python",
      "name": "python3"
    },
    "language_info": {
      "name": "python",
      "version": "3.8.9"
    },
    "vscode": {
      "interpreter": {
        "hash": "5edc29c2ed010d6458d71a83433b383a96a8cbd3efe8531bc90c4b8a5b8bcec9"
      }
    }
  },
  "nbformat": 4,
  "nbformat_minor": 0
}
