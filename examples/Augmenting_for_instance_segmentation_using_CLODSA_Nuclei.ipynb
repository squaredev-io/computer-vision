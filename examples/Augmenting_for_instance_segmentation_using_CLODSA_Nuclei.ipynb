{
  "nbformat": 4,
  "nbformat_minor": 0,
  "metadata": {
    "colab": {
      "provenance": [],
      "machine_shape": "hm",
      "collapsed_sections": []
    },
    "kernelspec": {
      "display_name": "Python 3",
      "language": "python",
      "name": "python3"
    },
    "language_info": {
      "codemirror_mode": {
        "name": "ipython",
        "version": 3
      },
      "file_extension": ".py",
      "mimetype": "text/x-python",
      "name": "python",
      "nbconvert_exporter": "python",
      "pygments_lexer": "ipython3",
      "version": "3.6.7"
    },
    "accelerator": "GPU",
    "gpuClass": "premium"
  },
  "cells": [
    {
      "cell_type": "markdown",
      "metadata": {
        "id": "GxQekSqTht6I"
      },
      "source": [
        "# Augmenting a dataset for instance segmentation\n",
        "\n",
        "In this notebook, we illustrate how CLODSA can be employed to augment a dataset of images devoted to instance segmentation that was annotated using the [COCO format](http://cocodataset.org/#home). "
      ]
    },
    {
      "cell_type": "markdown",
      "source": [
        "*Delete old directories (comment out as needed):*"
      ],
      "metadata": {
        "id": "oFrvhOFtxoDe"
      }
    },
    {
      "cell_type": "code",
      "source": [
        "import shutil\n",
        "shutil.rmtree('/content/output')\n",
        "shutil.rmtree('/content/input')"
      ],
      "metadata": {
        "id": "fVsPbLguxrjq"
      },
      "execution_count": null,
      "outputs": []
    },
    {
      "cell_type": "markdown",
      "source": [
        "*Mount Google Drive to copy contents:*"
      ],
      "metadata": {
        "id": "AMV5_0Bb0gLr"
      }
    },
    {
      "cell_type": "code",
      "source": [
        "from google.colab import drive\n",
        "drive.mount('/content/drive')"
      ],
      "metadata": {
        "colab": {
          "base_uri": "https://localhost:8080/"
        },
        "id": "c3OGoCPo0lH7",
        "outputId": "e56bb3a3-08cb-410a-d8b4-e70c06781e25"
      },
      "execution_count": null,
      "outputs": [
        {
          "output_type": "stream",
          "name": "stdout",
          "text": [
            "Drive already mounted at /content/drive; to attempt to forcibly remount, call drive.mount(\"/content/drive\", force_remount=True).\n"
          ]
        }
      ]
    },
    {
      "cell_type": "markdown",
      "source": [
        "*Copy the images + annotations into the input folder:*"
      ],
      "metadata": {
        "id": "fBokaUvxzMp9"
      }
    },
    {
      "cell_type": "code",
      "source": [
        "!cp -R /content/drive/MyDrive/Law_Game/Law_Game_Annotated_Data/thanos_skidmarks/train_126/images /content/input\n",
        "!cp /content/drive/MyDrive/Law_Game/Law_Game_Annotated_Data/thanos_skidmarks/train.json /content/input/annotations.json"
      ],
      "metadata": {
        "id": "Ax497142zLzg"
      },
      "execution_count": null,
      "outputs": []
    },
    {
      "cell_type": "markdown",
      "metadata": {
        "id": "kAy0Hvnbht6i"
      },
      "source": [
        "Ensure that the input folder contains the following:\n",
        "- images to be augmented\n",
        "- a single json file in COCO format that corresponds to the image annotations"
      ]
    },
    {
      "cell_type": "code",
      "metadata": {
        "id": "XEJ0pRfRht6k",
        "colab": {
          "base_uri": "https://localhost:8080/"
        },
        "outputId": "c0b268aa-aa7a-4f54-f1b2-81ec4329e519"
      },
      "source": [
        "!ls input/"
      ],
      "execution_count": null,
      "outputs": [
        {
          "output_type": "stream",
          "name": "stdout",
          "text": [
            " 0d652d0b91f8e4ae721616eedf04a4cc.jpeg\n",
            " 1366_2000.png\n",
            " 13979925543_39a1008314_k.jpg\n",
            " 1449353170_9c848bb01d_o.jpg\n",
            " 145119692_dfbf73ff19_o.jpg\n",
            " 1517678532_b735135f0c_k.jpg\n",
            " 1548107502_8c11984fe6_o.jpg\n",
            " 1571950054_13d31abdb2_o.jpg\n",
            " 18777850982_de0a7a9b77_o.jpg\n",
            " 19164832099_b6b43d545e_o.jpg\n",
            "'2022_4$largeimg_239735981.jpeg'\n",
            " 21763635585D432513.jpeg\n",
            " 2191973788_c27b7c6988_h.jpeg\n",
            " 2322536270_7774f18278_o.jpg\n",
            " 240_F_139647203_QeCsBtAJVs6yPJs1sQK2ZArCXji0g67x.jpeg\n",
            " 240_F_353933083_RennFlJU3g6M1FJ56Ba2cot8IHZAnjv4.jpeg\n",
            " 2426340939_d74688498c_k.jpg\n",
            " 28832788398_9c547dd667_k.jpg\n",
            " 29302610137_d5da5faabd_k.jpg\n",
            " 346222e51f35ea504475c9149fa547df_signpost-half.png\n",
            " 3564006446_1cc479524e_b.jpeg\n",
            " 3571649227_aacc40bcbe_o.jpg\n",
            " 360_F_174703485_agQHoBfSBl5GGpVb21XKJjJ948FICQsd.jpeg\n",
            " 360_F_197833533_o2UgF9mK4wWuhLjkkFvzzLlI67xLV0J9.webp\n",
            " 360_F_248672442_aDbhARKPR8yrsANzB8zM8IUW8II0fAo5.jpeg\n",
            " 360_F_301972782_C1OOYlaqmigzRftCTBWHBII17xmoFKHI.jpeg\n",
            " 360_F_428990817_7sdqFoKEIzDhFdOQ.jpeg\n",
            " 360_F_73987482_Ft4nm7WxZC31xLlvmozCQSGKO2enWXwc.webp\n",
            " 360_F_967101_eAuPRxTz0jkHIopLrsFPvwKUzN2uHw.jpeg\n",
            " 3753856254_4ae60d8911_o.jpg\n",
            " 39569893-close-up-view-of-rubber-tyre-tracks-on-a-tar-road-from-vehicles-braking-harshly.webp\n",
            " 43383040560_a1c6a3a542_k.jpg\n",
            " 43-432557_tire-tracks-clipart-tire-track-transparent-png-png.png\n",
            " 43938671240_cf3a1f75c4_b.jpeg\n",
            " 4764012547_12aaf0b313.jpeg\n",
            " 4890035526_08897ffce0_b.jpeg\n",
            " 49678337592_18209a7f25_h.jpeg\n",
            " 60196203.jpeg\n",
            " 61441CTD9-L._AC_SY450_.jpg\n",
            " 6544eddacea66ffbbeb65963cb67bb28.png\n",
            " 7026218175_853332551e_o.jpg\n",
            " 71-8HnsDXKL._SS500_.jpg\n",
            " 7820836066_69ba2d76b7_b.jpeg\n",
            " 8469774910_aa3d3c160f_k.jpg\n",
            " 8693666469_d50462ff2b_b.jpg\n",
            " 8758399376_16fa157c1e_b.jpeg\n",
            " 9590146645_1308b654e7_o.jpg\n",
            " 9590173283_855e56fba7_o.jpg\n",
            " 9592978688_2577bbde24_k.jpg\n",
            " acelleration.jpeg\n",
            " a-life-on-skid-road-feature-car-and-driver-photo-90623-s-original.jpeg\n",
            " a-life-on-skid-row-inline-5-photo-521950-s-original.jpeg\n",
            " annotations.json\n",
            " auto-over-de-weg-bandensporen-op-de-weg_51195-1125.jpeg\n",
            "'Blog _ Braking Safely _ skidding.jpeg'\n",
            " bremsspur_2.png\n",
            " bremsspuren-f-4666480-jpg--76086-.jpeg\n",
            " clinton-road-wierd-nj.png\n",
            " close-up-black-tire-marks-cement-floor_226189-1236.jpeg\n",
            " collection-eight-tire-track-marks_1017-8091.jpeg\n",
            " depositphotos_10028386-stock-photo-tire-skid-marks.jpeg\n",
            " depositphotos_2287849-stock-photo-a-close-up-of-skid.jpeg\n",
            " depositphotos_271260786-stock-photo-photo-of-a-tire-skid.jpeg\n",
            " depositphotos_457547832-stock-photo-left-skid-marks-street-racing.jpeg\n",
            " Depositphotos_6814617_l-2015-e1618491697760.jpeg\n",
            " depositphotos_7216019-stock-photo-skid-marks.jpeg\n",
            " DoHzcxJUcAAg7gH.jpeg\n",
            " GettyImages-502376113-scaled-1.webp\n",
            " imagedwe.png\n",
            " image.jpeg\n",
            " IMGP2819-1024x683.jpeg\n",
            " iStock_000000265146Medium.jpeg\n",
            " iStock-1278589432.webp\n",
            " istockphoto-106400706-612x612.jpeg\n",
            " istockphoto-1141761360-170667a.jpeg\n",
            " istockphoto-1252476953-170667a.jpeg\n",
            " istockphoto-1332870395-612x612.jpeg\n",
            " istockphoto-1338077133-612x612.jpeg\n",
            " istockphoto-1352725961-612x612.jpeg\n",
            " istockphoto-486650773-612x612.jpeg\n",
            " istockphoto-487227765-170667a.jpeg\n",
            " istockphoto-624426456-170667a.jpeg\n",
            " istockphoto-696719612-612x612.jpeg\n",
            " istockphoto-880216994-612x612.jpeg\n",
            " JxaffziBmmUmVue9.10.jpg\n",
            " med-p836m1463175.jpeg\n",
            " OZMG44BKYNFIBLZFNDT6C22LQU.jpeg\n",
            " Pride-Crosswalk-Canada.jpeg\n",
            " put_tormoz-min.jpeg\n",
            " red-car-enters-turn-with-skid_252025-761.jpeg\n",
            "'Rumble Strips-726118.jpeg'\n",
            "'Screenshot 2022-09-22 at 4.43.28 PM.png'\n",
            "'Screenshot 2022-09-22 at 4.55.36 PM.png'\n",
            "'Screenshot 2022-09-22 at 4.57.53 PM.png'\n",
            "'Screenshot 2022-09-26 at 2.05.48 PM.png'\n",
            "'Screenshot 2022-09-26 at 2.58.29 PM.png'\n",
            "'Screenshot 2022-09-26 at 3.30.04 PM.png'\n",
            "'Screenshot 2022-09-26 at 3.49.33 PM.png'\n",
            "'Screenshot 2022-09-26 at 3.51.20 PM.png'\n",
            "'Screenshot 2022-09-26 at 5.11.34 PM.png'\n",
            "'Screenshot 2022-09-27 at 10.13.24 AM.png'\n",
            "'Screenshot 2022-09-27 at 1.20.21 PM.png'\n",
            "'Screenshot 2022-09-27 at 1.22.53 PM.png'\n",
            "'Screenshot 2022-09-27 at 1.28.56 PM.png'\n",
            "'Screenshot 2022-09-27 at 1.47.14 PM.png'\n",
            "'Screenshot 2022-09-27 at 1.47.42 PM.png'\n",
            "'Screenshot 2022-09-27 at 1.48.24 PM.png'\n",
            "'Screenshot 2022-09-27 at 1.48.45 PM.png'\n",
            "'Screenshot 2022-09-27 at 1.50.02 PM.png'\n",
            "'Screenshot 2022-09-27 at 4.03.01 PM.png'\n",
            "'Screenshot 2022-09-27 at 4.37.57 PM.png'\n",
            "'Screenshot 2022-09-27 at 9.39.16 AM.png'\n",
            "'Screenshot 2022-09-27 at 9.42.34 AM.png'\n",
            "'Screenshot 2022-09-27 at 9.48.02 AM.png'\n",
            " shutterstock_22306030.jpeg\n",
            " shutterstock_238876852.jpeg\n",
            " SKID-MARK-009-548x550.jpeg\n",
            " stop-in-tracks-1725x810_20035.jpeg\n",
            " th-crop-iStock_000025116619Small.png\n",
            " tire-marks-1.jpeg\n",
            " tires-tracks-asphalt-background-offroad-grunge-tyre-prints-abstract-automobile-wheels-black-pattern-rally-motocross-straight-dirty-traces-off-road-trails-texture-realistic-vector-illustration_107791-10235.jpeg\n",
            " tractortrailerhorsenobreaks.jpeg\n",
            " TrialSite-News-Article-Image-46.png\n",
            " Unbenannt-17-1024x576.jpeg\n",
            " Unbenannt.png\n",
            " w1900_h1425_x1600_y1200_40ba48f17d682b47.jpeg\n",
            " XVSB454FJJH6BL5EGG7EGUBHME.jpeg\n"
          ]
        }
      ]
    },
    {
      "cell_type": "markdown",
      "metadata": {
        "id": "Bu3B12UeBhz7"
      },
      "source": [
        "We create the output folder."
      ]
    },
    {
      "cell_type": "code",
      "metadata": {
        "id": "qGMfgPAtBhz-"
      },
      "source": [
        "!mkdir output"
      ],
      "execution_count": null,
      "outputs": []
    },
    {
      "cell_type": "markdown",
      "metadata": {
        "id": "LaBilQHUht6u"
      },
      "source": [
        "## Augmentation techniques\n",
        "\n",
        "For this example, we consider three augmentation techniques. \n",
        "\n",
        "The augmentation techniques applied in this example are:\n",
        "- Rotation\n",
        "- Flip\n",
        "- Dropout\n",
        "- Elastic Deformation\n",
        "- Equalize Histogram\n",
        "- Gamma Correction\n",
        "- Gaussian Blurring\n",
        "- Gaussian Noise\n",
        "- Median Blurring\n",
        "- Raise Blue Channel\n",
        "- Raise Green Channel\n",
        "- Raise Hue\n",
        "- Salt and Pepper\n"
      ]
    },
    {
      "cell_type": "markdown",
      "metadata": {
        "id": "wCILufF2ht6y"
      },
      "source": [
        "## Installing the necessary libraries\n",
        "\n",
        "In case that CLODSA is not installed in your system, the first task consists in installing it using ``pip``."
      ]
    },
    {
      "cell_type": "code",
      "metadata": {
        "id": "FWTm8dG3ht6y",
        "colab": {
          "base_uri": "https://localhost:8080/"
        },
        "outputId": "8a69ff6e-89d6-4efc-cb38-34891a821ec7"
      },
      "source": [
        "!pip install clodsa"
      ],
      "execution_count": null,
      "outputs": [
        {
          "output_type": "stream",
          "name": "stdout",
          "text": [
            "Looking in indexes: https://pypi.org/simple, https://us-python.pkg.dev/colab-wheels/public/simple/\n",
            "Requirement already satisfied: clodsa in /usr/local/lib/python3.7/dist-packages (1.2.47)\n",
            "Requirement already satisfied: joblib in /usr/local/lib/python3.7/dist-packages (from clodsa) (1.2.0)\n",
            "Requirement already satisfied: Keras in /usr/local/lib/python3.7/dist-packages (from clodsa) (2.8.0)\n",
            "Requirement already satisfied: scipy in /usr/local/lib/python3.7/dist-packages (from clodsa) (1.7.3)\n",
            "Requirement already satisfied: imutils in /usr/local/lib/python3.7/dist-packages (from clodsa) (0.5.4)\n",
            "Requirement already satisfied: scikit-learn in /usr/local/lib/python3.7/dist-packages (from clodsa) (1.0.2)\n",
            "Requirement already satisfied: progressbar2 in /usr/local/lib/python3.7/dist-packages (from clodsa) (3.38.0)\n",
            "Requirement already satisfied: numpy in /usr/local/lib/python3.7/dist-packages (from clodsa) (1.21.6)\n",
            "Requirement already satisfied: commentjson in /usr/local/lib/python3.7/dist-packages (from clodsa) (0.9.0)\n",
            "Requirement already satisfied: h5py in /usr/local/lib/python3.7/dist-packages (from clodsa) (3.1.0)\n",
            "Requirement already satisfied: mahotas in /usr/local/lib/python3.7/dist-packages (from clodsa) (1.4.13)\n",
            "Requirement already satisfied: lark-parser<0.8.0,>=0.7.1 in /usr/local/lib/python3.7/dist-packages (from commentjson->clodsa) (0.7.8)\n",
            "Requirement already satisfied: cached-property in /usr/local/lib/python3.7/dist-packages (from h5py->clodsa) (1.5.2)\n",
            "Requirement already satisfied: python-utils>=2.3.0 in /usr/local/lib/python3.7/dist-packages (from progressbar2->clodsa) (3.3.3)\n",
            "Requirement already satisfied: six in /usr/local/lib/python3.7/dist-packages (from progressbar2->clodsa) (1.15.0)\n",
            "Requirement already satisfied: threadpoolctl>=2.0.0 in /usr/local/lib/python3.7/dist-packages (from scikit-learn->clodsa) (3.1.0)\n"
          ]
        }
      ]
    },
    {
      "cell_type": "markdown",
      "metadata": {
        "id": "I1q3x_OFht66"
      },
      "source": [
        "## Loading the necessary libraries\n",
        "\n",
        "The first step in the pipeline consists in loading the necessary libraries to apply the data augmentation techniques in CLODSA."
      ]
    },
    {
      "cell_type": "code",
      "metadata": {
        "id": "JqWBswFyht68"
      },
      "source": [
        "from matplotlib import pyplot as plt\n",
        "from clodsa.augmentors.augmentorFactory import createAugmentor\n",
        "from clodsa.transformers.transformerFactory import transformerGenerator\n",
        "from clodsa.techniques.techniqueFactory import createTechnique\n",
        "import cv2\n",
        "%matplotlib inline"
      ],
      "execution_count": null,
      "outputs": []
    },
    {
      "cell_type": "markdown",
      "metadata": {
        "id": "CBP59dqqht7E"
      },
      "source": [
        "## Creating the augmentor object\n",
        "\n",
        "As explained in the documentation of CLODSA, we need to specify some parameters for the augmentation process, and use them to create an augmentor object.  \n",
        "\n",
        "_The kind of problem_. In this case, we are working in an instance segmentation problem."
      ]
    },
    {
      "cell_type": "code",
      "metadata": {
        "id": "zQ5q8WVnht7G"
      },
      "source": [
        "PROBLEM = \"instance_segmentation\""
      ],
      "execution_count": null,
      "outputs": []
    },
    {
      "cell_type": "markdown",
      "metadata": {
        "id": "D46gdf-4ht7K"
      },
      "source": [
        "_The annotation mode_. The annotation is provided using the coco format in a file called annotations.json. "
      ]
    },
    {
      "cell_type": "code",
      "metadata": {
        "id": "rrlRg-FVht7M"
      },
      "source": [
        "ANNOTATION_MODE = \"coco\""
      ],
      "execution_count": null,
      "outputs": []
    },
    {
      "cell_type": "markdown",
      "metadata": {
        "id": "cn-uF33Oht7S"
      },
      "source": [
        "_The input path_. The input path containing the images. "
      ]
    },
    {
      "cell_type": "code",
      "metadata": {
        "id": "78jPXCj2ht7U"
      },
      "source": [
        "INPUT_PATH = \"input\""
      ],
      "execution_count": null,
      "outputs": []
    },
    {
      "cell_type": "markdown",
      "metadata": {
        "id": "j9kGGhs4ht7a"
      },
      "source": [
        "_The generation mode_. In this case, linear, that is, all the augmentation techniques are applied to all the images of the original dataset. "
      ]
    },
    {
      "cell_type": "code",
      "metadata": {
        "id": "KCweCzLeht7c"
      },
      "source": [
        "GENERATION_MODE = \"linear\""
      ],
      "execution_count": null,
      "outputs": []
    },
    {
      "cell_type": "markdown",
      "metadata": {
        "id": "o6WljljVht7g"
      },
      "source": [
        "_The output mode_. The generated images will be stored in a new folder called output.  "
      ]
    },
    {
      "cell_type": "code",
      "metadata": {
        "id": "A4uKKcJUht7i"
      },
      "source": [
        "OUTPUT_MODE = \"coco\"\n",
        "OUTPUT_PATH= \"output/\""
      ],
      "execution_count": null,
      "outputs": []
    },
    {
      "cell_type": "markdown",
      "metadata": {
        "id": "9R79LEvVht7o"
      },
      "source": [
        "Using the above information, we can create our augmentor object. "
      ]
    },
    {
      "cell_type": "code",
      "metadata": {
        "id": "CQ9wyiQuht7q"
      },
      "source": [
        "augmentor = createAugmentor(PROBLEM,ANNOTATION_MODE,OUTPUT_MODE,GENERATION_MODE,INPUT_PATH,{\"outputPath\":OUTPUT_PATH})"
      ],
      "execution_count": null,
      "outputs": []
    },
    {
      "cell_type": "markdown",
      "metadata": {
        "id": "iXOfuq90ht7w"
      },
      "source": [
        "## Adding the augmentation techniques\n",
        "\n",
        "Now, we define the techniques that will be applied in our augmentation process and add them to our augmentor object. To illustrate the transformations, we will use the following image of the dataset. \n",
        "\n"
      ]
    },
    {
      "cell_type": "markdown",
      "metadata": {
        "id": "9MsVfe3CBh1I"
      },
      "source": [
        "First of all, we must define a transformer generator."
      ]
    },
    {
      "cell_type": "code",
      "metadata": {
        "id": "-OSl47BDBh1K"
      },
      "source": [
        "transformer = transformerGenerator(PROBLEM)"
      ],
      "execution_count": null,
      "outputs": []
    },
    {
      "cell_type": "markdown",
      "metadata": {
        "id": "n4PfSKW-ht74"
      },
      "source": [
        "_Rotation:_"
      ]
    },
    {
      "cell_type": "code",
      "metadata": {
        "id": "ajKE-mkDht74"
      },
      "source": [
        "for angle in [90,180]:\n",
        "    rotate = createTechnique(\"rotate\", {\"angle\" : angle})\n",
        "    augmentor.addTransformer(transformer(rotate))"
      ],
      "execution_count": null,
      "outputs": []
    },
    {
      "cell_type": "markdown",
      "metadata": {
        "id": "It-_OkKfBh1e"
      },
      "source": [
        "_Flip:_"
      ]
    },
    {
      "cell_type": "code",
      "metadata": {
        "id": "gEYJCW0aBh1g"
      },
      "source": [
        "flip = createTechnique(\"flip\",{\"flip\":1})\n",
        "augmentor.addTransformer(transformer(flip))"
      ],
      "execution_count": null,
      "outputs": []
    },
    {
      "cell_type": "markdown",
      "source": [
        "*Dropout:*"
      ],
      "metadata": {
        "id": "WmsCc-A9rCEY"
      }
    },
    {
      "cell_type": "code",
      "source": [
        "dropout = createTechnique(\"dropout\",{\"percentage\":0.05})\n",
        "augmentor.addTransformer(transformer(dropout))"
      ],
      "metadata": {
        "id": "2_azUZ8CrbdH"
      },
      "execution_count": null,
      "outputs": []
    },
    {
      "cell_type": "markdown",
      "source": [
        "*Elastic Deformation:*"
      ],
      "metadata": {
        "id": "ocxLOK1ZrtdD"
      }
    },
    {
      "cell_type": "code",
      "source": [
        "elastic = createTechnique(\"elastic\",{\"alpha\":5,\"sigma\":0.05})\n",
        "augmentor.addTransformer(transformer(elastic))"
      ],
      "metadata": {
        "id": "_wPpNCgyrvmL"
      },
      "execution_count": null,
      "outputs": []
    },
    {
      "cell_type": "markdown",
      "source": [
        "*Equalize Histogram:*"
      ],
      "metadata": {
        "id": "q_A4hio2r0Ab"
      }
    },
    {
      "cell_type": "code",
      "source": [
        "histograms = createTechnique(\"equalize_histogram\",{})\n",
        "augmentor.addTransformer(transformer(histograms))"
      ],
      "metadata": {
        "id": "x4AkeOJrr2Yf"
      },
      "execution_count": null,
      "outputs": []
    },
    {
      "cell_type": "markdown",
      "source": [
        "*Gamma Correction:*"
      ],
      "metadata": {
        "id": "CCdxAqU2u6GU"
      }
    },
    {
      "cell_type": "code",
      "source": [
        "gamma = createTechnique(\"gamma\",{\"gamma\":1.5})\n",
        "augmentor.addTransformer(transformer(gamma))"
      ],
      "metadata": {
        "id": "F7xiTzBku9YO"
      },
      "execution_count": null,
      "outputs": []
    },
    {
      "cell_type": "markdown",
      "source": [
        "*Gaussian Blurring:*"
      ],
      "metadata": {
        "id": "_z5WhRLtvDa6"
      }
    },
    {
      "cell_type": "code",
      "source": [
        "gaussian_blurring = createTechnique(\"gaussian_blur\", {\"kernel\" : 5})\n",
        "augmentor.addTransformer(transformer(gaussian_blurring))"
      ],
      "metadata": {
        "id": "S3F7zRnqvRE9"
      },
      "execution_count": null,
      "outputs": []
    },
    {
      "cell_type": "markdown",
      "source": [
        "*Gaussian Noise:*"
      ],
      "metadata": {
        "id": "dZhxCkZavegu"
      }
    },
    {
      "cell_type": "code",
      "source": [
        "gaussian_noise = createTechnique(\"gaussian_noise\", {\"mean\" : 0,\"sigma\":10})\n",
        "augmentor.addTransformer(transformer(gaussian_noise))"
      ],
      "metadata": {
        "id": "JoLAgQnivgo2"
      },
      "execution_count": null,
      "outputs": []
    },
    {
      "cell_type": "markdown",
      "source": [
        "*Raise Hue:*"
      ],
      "metadata": {
        "id": "c56ECegcv4RD"
      }
    },
    {
      "cell_type": "code",
      "source": [
        "raise_hue = createTechnique(\"raise_hue\", {\"power\" : 0.9})\n",
        "augmentor.addTransformer(transformer(raise_hue))"
      ],
      "metadata": {
        "id": "H4nLuik3v51b"
      },
      "execution_count": null,
      "outputs": []
    },
    {
      "cell_type": "markdown",
      "source": [
        "*Salt and Pepper:*"
      ],
      "metadata": {
        "id": "LB4SjoZbwK-P"
      }
    },
    {
      "cell_type": "code",
      "source": [
        "salt_and_pepper = createTechnique(\"salt_and_pepper\", {\"low\" : 0,\"up\":25})\n",
        "augmentor.addTransformer(transformer(salt_and_pepper))"
      ],
      "metadata": {
        "id": "h_thfOxNwGBa"
      },
      "execution_count": null,
      "outputs": []
    },
    {
      "cell_type": "markdown",
      "metadata": {
        "id": "WwE-qSYLht9I"
      },
      "source": [
        "## Applying the augmentation process\n",
        "\n",
        "Finally, we apply the augmentation process (this might take some time depending on the number of images of the original dataset and the number of transformations that will be applied). \n",
        "\n",
        "Warning: in case of info error, edit annotations.json and add the following:\n",
        "\n",
        "\n",
        "```\n",
        "\"info\": {\n",
        "    \"description\": \"Example Dataset\",\n",
        "    \"version\": \"0.1.0\",\n",
        "    \"year\": 2022,\n",
        "    \"contributor\": \"your name\"\n",
        "  },\n",
        "  \"licenses\": [\n",
        "    {\n",
        "      \"id\": 1,\n",
        "      \"name\": \"\",\n",
        "      \"url\": \"\"\n",
        "    }\n",
        "  ],\n",
        "```\n",
        "\n"
      ]
    },
    {
      "cell_type": "code",
      "metadata": {
        "id": "lbW5YVE9ht9I",
        "colab": {
          "base_uri": "https://localhost:8080/"
        },
        "outputId": "b7349550-7f40-4b75-c4e0-7c3b60fde2fa"
      },
      "source": [
        "augmentor.applyAugmentation()"
      ],
      "execution_count": null,
      "outputs": [
        {
          "output_type": "stream",
          "name": "stderr",
          "text": [
            "/usr/local/lib/python3.7/dist-packages/joblib/externals/loky/process_executor.py:703: UserWarning: A worker stopped while some jobs were given to the executor. This can be caused by a too short worker timeout or by a memory leak.\n",
            "  \"timeout or by a memory leak.\", UserWarning\n"
          ]
        }
      ]
    },
    {
      "cell_type": "markdown",
      "metadata": {
        "id": "brG8bP-RBh1q"
      },
      "source": [
        "We can now check the amount of files of the output folder (includes both images and the annotations.json)"
      ]
    },
    {
      "cell_type": "code",
      "metadata": {
        "id": "1zdxLh12Bh1s",
        "colab": {
          "base_uri": "https://localhost:8080/"
        },
        "outputId": "9be40a77-988c-44ae-a397-0e70f3db0de3"
      },
      "source": [
        "!ls output/ | wc -l"
      ],
      "execution_count": null,
      "outputs": [
        {
          "output_type": "stream",
          "name": "stdout",
          "text": [
            "1387\n"
          ]
        }
      ]
    },
    {
      "cell_type": "markdown",
      "metadata": {
        "id": "I7KjBPOIBh1x"
      },
      "source": [
        "Finally, we can visualize the results using some of the tools provided by [the COCO API](https://github.com/cocodataset/cocoapi)."
      ]
    },
    {
      "cell_type": "code",
      "metadata": {
        "id": "nF9AM8GNBh1y",
        "colab": {
          "base_uri": "https://localhost:8080/"
        },
        "outputId": "2ad81272-2561-40ea-9b1d-2f7c3bccb6b8"
      },
      "source": [
        "!pip install pycocotools"
      ],
      "execution_count": null,
      "outputs": [
        {
          "output_type": "stream",
          "name": "stdout",
          "text": [
            "Looking in indexes: https://pypi.org/simple, https://us-python.pkg.dev/colab-wheels/public/simple/\n",
            "Requirement already satisfied: pycocotools in /usr/local/lib/python3.7/dist-packages (2.0.5)\n",
            "Requirement already satisfied: numpy in /usr/local/lib/python3.7/dist-packages (from pycocotools) (1.21.6)\n",
            "Requirement already satisfied: matplotlib>=2.1.0 in /usr/local/lib/python3.7/dist-packages (from pycocotools) (3.2.2)\n",
            "Requirement already satisfied: pyparsing!=2.0.4,!=2.1.2,!=2.1.6,>=2.0.1 in /usr/local/lib/python3.7/dist-packages (from matplotlib>=2.1.0->pycocotools) (3.0.9)\n",
            "Requirement already satisfied: python-dateutil>=2.1 in /usr/local/lib/python3.7/dist-packages (from matplotlib>=2.1.0->pycocotools) (2.8.2)\n",
            "Requirement already satisfied: kiwisolver>=1.0.1 in /usr/local/lib/python3.7/dist-packages (from matplotlib>=2.1.0->pycocotools) (1.4.4)\n",
            "Requirement already satisfied: cycler>=0.10 in /usr/local/lib/python3.7/dist-packages (from matplotlib>=2.1.0->pycocotools) (0.11.0)\n",
            "Requirement already satisfied: typing-extensions in /usr/local/lib/python3.7/dist-packages (from kiwisolver>=1.0.1->matplotlib>=2.1.0->pycocotools) (4.1.1)\n",
            "Requirement already satisfied: six>=1.5 in /usr/local/lib/python3.7/dist-packages (from python-dateutil>=2.1->matplotlib>=2.1.0->pycocotools) (1.15.0)\n"
          ]
        }
      ]
    },
    {
      "cell_type": "code",
      "metadata": {
        "id": "LxXtLp5OBh13"
      },
      "source": [
        "%matplotlib inline\n",
        "from pycocotools.coco import COCO\n",
        "import numpy as np\n",
        "import skimage.io as io\n",
        "import matplotlib.pyplot as plt\n",
        "import pylab"
      ],
      "execution_count": null,
      "outputs": []
    },
    {
      "cell_type": "code",
      "metadata": {
        "id": "NzbYOt2VBh17"
      },
      "source": [
        "image_directory = 'output/'\n",
        "annotation_file = 'output/annotation.json'"
      ],
      "execution_count": null,
      "outputs": []
    },
    {
      "cell_type": "code",
      "metadata": {
        "id": "1SYTVW09Bh19",
        "colab": {
          "base_uri": "https://localhost:8080/"
        },
        "outputId": "703a5689-5512-4ebe-9fc4-fa299035d3d6"
      },
      "source": [
        "example_coco = COCO(annotation_file)"
      ],
      "execution_count": null,
      "outputs": [
        {
          "output_type": "stream",
          "name": "stdout",
          "text": [
            "loading annotations into memory...\n",
            "Done (t=0.39s)\n",
            "creating index...\n",
            "index created!\n"
          ]
        }
      ]
    },
    {
      "cell_type": "code",
      "metadata": {
        "id": "G5vJPcE3Bh2B",
        "colab": {
          "base_uri": "https://localhost:8080/"
        },
        "outputId": "4064d564-8795-4370-ed5e-9cf1ef94c610"
      },
      "source": [
        "categories = example_coco.loadCats(example_coco.getCatIds())\n",
        "category_names = [category['name'] for category in categories]\n",
        "print('Custom COCO categories: \\n{}\\n'.format(' '.join(category_names)))\n",
        "\n",
        "category_names = set([category['supercategory'] for category in categories])\n",
        "print('Custom COCO supercategories: \\n{}'.format(' '.join(category_names)))"
      ],
      "execution_count": null,
      "outputs": [
        {
          "output_type": "stream",
          "name": "stdout",
          "text": [
            "Custom COCO categories: \n",
            "skidmark\n",
            "\n",
            "Custom COCO supercategories: \n",
            "skidmark\n"
          ]
        }
      ]
    },
    {
      "cell_type": "markdown",
      "metadata": {
        "id": "y1xlFrwfBh2G"
      },
      "source": [
        "The following data cells pick a random processed image for preview, \n",
        "and they're not required for the correct use of the application.\n",
        "\n",
        "Comment them out if you want to see a random image from the output images."
      ]
    },
    {
      "cell_type": "code",
      "metadata": {
        "id": "07sYfCoCBh2J"
      },
      "source": [
        "# category_ids = example_coco.getCatIds(catNms=['circle'])\n",
        "# image_ids = example_coco.getImgIds(catIds=category_ids)\n",
        "# image_data = example_coco.loadImgs(image_ids[np.random.randint(0, len(image_ids))])[0]"
      ],
      "execution_count": null,
      "outputs": []
    },
    {
      "cell_type": "code",
      "metadata": {
        "id": "kv82h2gWBh2P",
        "colab": {
          "base_uri": "https://localhost:8080/"
        },
        "outputId": "db8af541-7be8-4e66-f5b8-049df6589660"
      },
      "source": [
        "# image_data"
      ],
      "execution_count": null,
      "outputs": [
        {
          "output_type": "execute_result",
          "data": {
            "text/plain": [
              "{'id': 921,\n",
              " 'file_name': '7_depositphotos_10028386-stock-photo-tire-skid-marks.jpeg',\n",
              " 'width': 600,\n",
              " 'height': 398,\n",
              " 'date_captured': '',\n",
              " 'license': 1,\n",
              " 'coco_url': '',\n",
              " 'flickr_url': ''}"
            ]
          },
          "metadata": {},
          "execution_count": 77
        }
      ]
    },
    {
      "cell_type": "code",
      "metadata": {
        "id": "XNt8OXIuBh2S",
        "colab": {
          "base_uri": "https://localhost:8080/",
          "height": 327
        },
        "outputId": "8c4083f6-f141-4946-b321-d690063ce214"
      },
      "source": [
        "# image = io.imread(image_directory + image_data['file_name'])\n",
        "# plt.imshow(image); plt.axis('off')\n",
        "# pylab.rcParams['figure.figsize'] = (8.0, 10.0)\n",
        "# annotation_ids = example_coco.getAnnIds(imgIds=image_data['id'], catIds=category_ids, iscrowd=None)\n",
        "# annotations = example_coco.loadAnns(annotation_ids)\n",
        "# example_coco.showAnns(annotations)"
      ],
      "execution_count": null,
      "outputs": [
        {
          "output_type": "display_data",
          "data": {
            "text/plain": [
              "<Figure size 576x720 with 1 Axes>"
            ],
            "image/png": "[encoded data removed]"
          },
          "metadata": {
            "needs_background": "light"
          }
        }
      ]
    },
    {
      "cell_type": "markdown",
      "metadata": {
        "id": "LXDx9QqGBh2W"
      },
      "source": [
        "If you are executing this notebook in Colaboratory, you need to download the generated files. To that aim, you can create a zip folder and download it using the following commands. "
      ]
    },
    {
      "cell_type": "code",
      "metadata": {
        "id": "gFWtkhy3Bh2X",
        "colab": {
          "base_uri": "https://localhost:8080/"
        },
        "outputId": "5674ac10-da81-4a98-956b-0be5db9273b1"
      },
      "source": [
        "!zip -r output.zip output"
      ],
      "execution_count": null,
      "outputs": [
        {
          "output_type": "stream",
          "name": "stdout",
          "text": [
            "  adding: output/ (stored 0%)\n",
            "  adding: output/7_GettyImages-502376113-scaled-1.webp (deflated 2%)\n",
            "  adding: output/1_GettyImages-502376113-scaled-1.webp (deflated 0%)\n",
            "  adding: output/2_GettyImages-502376113-scaled-1.webp (deflated 0%)\n",
            "  adding: output/0_GettyImages-502376113-scaled-1.webp (deflated 0%)\n",
            "  adding: output/4_GettyImages-502376113-scaled-1.webp (deflated 0%)\n",
            "  adding: output/10_GettyImages-502376113-scaled-1.webp (deflated 0%)\n",
            "  adding: output/3_GettyImages-502376113-scaled-1.webp (deflated 0%)\n",
            "  adding: output/8_GettyImages-502376113-scaled-1.webp (deflated 0%)\n",
            "  adding: output/9_GettyImages-502376113-scaled-1.webp (deflated 0%)\n",
            "  adding: output/6_GettyImages-502376113-scaled-1.webp (deflated 0%)\n",
            "  adding: output/annotation.json (deflated 87%)\n",
            "  adding: output/5_GettyImages-502376113-scaled-1.webp (deflated 0%)\n"
          ]
        }
      ]
    }
  ]
}